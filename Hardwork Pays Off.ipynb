{
 "cells": [
  {
   "cell_type": "code",
   "execution_count": 1,
   "metadata": {},
   "outputs": [],
   "source": [
    "import numpy as np\n",
    "import pandas as pd\n",
    "import matplotlib.pyplot as plt"
   ]
  },
  {
   "cell_type": "code",
   "execution_count": 2,
   "metadata": {},
   "outputs": [],
   "source": [
    "dfx=pd.read_csv(\".\\\\Training Data\\Linear_X_Train.csv\")"
   ]
  },
  {
   "cell_type": "code",
   "execution_count": 3,
   "metadata": {},
   "outputs": [],
   "source": [
    "dfy=pd.read_csv(\".\\\\Training Data\\Linear_Y_Train.csv\")"
   ]
  },
  {
   "cell_type": "code",
   "execution_count": 62,
   "metadata": {},
   "outputs": [],
   "source": [
    "xtrain=dfx.values\n",
    "ytrain=dfy.values"
   ]
  },
  {
   "cell_type": "code",
   "execution_count": 63,
   "metadata": {},
   "outputs": [
    {
     "name": "stdout",
     "output_type": "stream",
     "text": [
      "(3750, 1)\n"
     ]
    }
   ],
   "source": [
    "print(xtrain.shape)"
   ]
  },
  {
   "cell_type": "code",
   "execution_count": 64,
   "metadata": {},
   "outputs": [
    {
     "data": {
      "image/png": "[encoded data removed]",
      "text/plain": [
       "<Figure size 432x288 with 1 Axes>"
      ]
     },
     "metadata": {
      "needs_background": "light"
     },
     "output_type": "display_data"
    }
   ],
   "source": [
    "plt.scatter(xtrain,ytrain)\n",
    "plt.show()"
   ]
  },
  {
   "cell_type": "code",
   "execution_count": 117,
   "metadata": {},
   "outputs": [],
   "source": [
    "## Helper Functions\n",
    "def hypothesis(x,theta):\n",
    "    return theta[0]+theta[1]*x \n",
    "\n",
    "def error(X,Y,theta):\n",
    "    m=X.shape[0]\n",
    "    err=0\n",
    "    for i in range(m):\n",
    "        hx=hypothesis(X[i],theta)\n",
    "        err+=(hx-Y[i])**2 \n",
    "    return err\n",
    "\n",
    "def gradient(X,Y,theta):\n",
    "    grad=np.zeros((2,))\n",
    "    m=X.shape[0]\n",
    "    for i in range(m):\n",
    "        hx=hypothesis(X[i],theta)\n",
    "        grad[0]+=(hx-Y[i])\n",
    "        grad[1]+=(hx-Y[i])*X[i]\n",
    "        \n",
    "    return grad\n",
    "\n",
    "##Algorithm\n",
    "def gradientDescent(X,Y,learning_rate=0.0001):\n",
    "    theta= np.zeros((2,))\n",
    "    itr=0\n",
    "    max_itr=60\n",
    "    error_list=[]\n",
    "    while(itr<=max_itr):\n",
    "        grad=gradient(X,Y,theta)\n",
    "        \n",
    "        e=error(X,Y,theta)\n",
    "        error_list.append(e)\n",
    "        theta[0]=theta[0]-learning_rate*grad[0]\n",
    "        theta[1]=theta[1]-learning_rate*grad[1]\n",
    "        itr+=1\n",
    "    return theta,error_list \n"
   ]
  },
  {
   "cell_type": "code",
   "execution_count": 118,
   "metadata": {},
   "outputs": [],
   "source": [
    "dfxt=pd.read_csv(\".\\\\Test Cases\\Linear_X_Test.csv\")"
   ]
  },
  {
   "cell_type": "code",
   "execution_count": 119,
   "metadata": {},
   "outputs": [],
   "source": [
    "xtest=dfxt.values"
   ]
  },
  {
   "cell_type": "code",
   "execution_count": 120,
   "metadata": {},
   "outputs": [],
   "source": [
    "final_theta,error_list=gradientDescent(xtrain,ytrain)"
   ]
  },
  {
   "cell_type": "code",
   "execution_count": 121,
   "metadata": {},
   "outputs": [
    {
     "data": {
      "text/plain": [
       "[<matplotlib.lines.Line2D at 0x106c8810>]"
      ]
     },
     "execution_count": 121,
     "metadata": {},
     "output_type": "execute_result"
    },
    {
     "data": {
      "image/png": "[encoded data removed]",
      "text/plain": [
       "<Figure size 432x288 with 1 Axes>"
      ]
     },
     "metadata": {
      "needs_background": "light"
     },
     "output_type": "display_data"
    }
   ],
   "source": [
    "plt.plot(error_list)"
   ]
  },
  {
   "cell_type": "code",
   "execution_count": 128,
   "metadata": {},
   "outputs": [
    {
     "data": {
      "image/png": "[encoded data removed]",
      "text/plain": [
       "<Figure size 432x288 with 1 Axes>"
      ]
     },
     "metadata": {
      "needs_background": "light"
     },
     "output_type": "display_data"
    }
   ],
   "source": [
    "plt.scatter(xtrain,ytrain,label=\"Training Data\")\n",
    "plt.plot(xtest,hypothesis(xtest,final_theta),color='orange',label=\"Prediction\")\n",
    "plt.legend()\n",
    "plt.show()\n"
   ]
  },
  {
   "cell_type": "code",
   "execution_count": 129,
   "metadata": {},
   "outputs": [
    {
     "name": "stdout",
     "output_type": "stream",
     "text": [
      "[ 3.72798828 80.54363185]\n"
     ]
    }
   ],
   "source": [
    "print(final_theta)"
   ]
  },
  {
   "cell_type": "code",
   "execution_count": 130,
   "metadata": {},
   "outputs": [
    {
     "name": "stdout",
     "output_type": "stream",
     "text": [
      "[array([24661312.69673235]), array([10259567.26728486]), array([4527084.00020222]), array([2240809.98298864]), array([1327222.67219545]), array([961472.94365533]), array([814781.83966467]), array([755845.77963763]), array([732127.33539688]), array([722566.6697797]), array([718706.95581905]), array([717146.48765381]), array([716514.72338678]), array([716258.61535443]), array([716154.66467795]), array([716112.42350586]), array([716095.23973767]), array([716088.24220653]), array([716085.38996385]), array([716084.22633189]), array([716083.75120909]), array([716083.55706152]), array([716083.47767076]), array([716083.44518469]), array([716083.43188344]), array([716083.42643421]), array([716083.4242006]), array([716083.42328461]), array([716083.4229088]), array([716083.42275455]), array([716083.42269122]), array([716083.4226652]), array([716083.42265451]), array([716083.42265012]), array([716083.42264831]), array([716083.42264757]), array([716083.42264727]), array([716083.42264714]), array([716083.42264709]), array([716083.42264707]), array([716083.42264706]), array([716083.42264705]), array([716083.42264705]), array([716083.42264705]), array([716083.42264705]), array([716083.42264705]), array([716083.42264705]), array([716083.42264705]), array([716083.42264705]), array([716083.42264705]), array([716083.42264705]), array([716083.42264705]), array([716083.42264705]), array([716083.42264705]), array([716083.42264705]), array([716083.42264705]), array([716083.42264705]), array([716083.42264705]), array([716083.42264705]), array([716083.42264705]), array([716083.42264705])]\n"
     ]
    }
   ],
   "source": [
    "print(error_list)"
   ]
  },
  {
   "cell_type": "code",
   "execution_count": 131,
   "metadata": {},
   "outputs": [
    {
     "name": "stdout",
     "output_type": "stream",
     "text": [
      "<class 'numpy.ndarray'>\n"
     ]
    }
   ],
   "source": [
    "print(type(hypothesis(xtest,final_theta)))"
   ]
  },
  {
   "cell_type": "code",
   "execution_count": 132,
   "metadata": {},
   "outputs": [
    {
     "name": "stdout",
     "output_type": "stream",
     "text": [
      "[[-1.87794441]\n",
      " [-0.86903192]\n",
      " [-2.53018242]\n",
      " ...\n",
      " [ 0.12800782]\n",
      " [-0.27803759]\n",
      " [-0.68042543]]\n"
     ]
    }
   ],
   "source": [
    "print(xtest)"
   ]
  },
  {
   "cell_type": "code",
   "execution_count": 133,
   "metadata": {},
   "outputs": [
    {
     "name": "stdout",
     "output_type": "stream",
     "text": [
      "[[-147.52847525]\n",
      " [ -66.26699842]\n",
      " [-200.06209345]\n",
      " ...\n",
      " [  14.0382031 ]\n",
      " [ -18.66616899]\n",
      " [ -51.07594693]]\n"
     ]
    }
   ],
   "source": [
    "print(hypothesis(xtest,final_theta))"
   ]
  },
  {
   "cell_type": "code",
   "execution_count": 134,
   "metadata": {},
   "outputs": [],
   "source": [
    "pd.DataFrame(hypothesis(xtest,final_theta)).to_csv(\"y.csv\")"
   ]
  },
  {
   "cell_type": "code",
   "execution_count": null,
   "metadata": {},
   "outputs": [],
   "source": []
  }
 ],
 "metadata": {
  "kernelspec": {
   "display_name": "Python 3",
   "language": "python",
   "name": "python3"
  },
  "language_info": {
   "codemirror_mode": {
    "name": "ipython",
    "version": 3
   },
   "file_extension": ".py",
   "mimetype": "text/x-python",
   "name": "python",
   "nbconvert_exporter": "python",
   "pygments_lexer": "ipython3",
   "version": "3.7.4"
  }
 },
 "nbformat": 4,
 "nbformat_minor": 2
}
